{
  "cells": [
    {
      "cell_type": "markdown",
      "metadata": {
        "id": "Pzzr6x5JRGOt"
      },
      "source": [
        "# Working with Dictionaries - Lab\n",
        "\n",
        "## Introduction\n",
        "Now that we know about dictionaries in Python, it is time to practice using them. In this lesson, you'll use your knowledge of dictionaries to retrieve and assign data about various cities.\n",
        "\n",
        "## Objectives\n",
        "\n",
        "You will be able to:\n",
        "\n",
        "* Assign values in a dictionary\n",
        "* Access keys and values in a dictionary\n",
        "\n",
        "## Instructions\n",
        "\n",
        "Here is a dictionary representing the city of Greenville, North Carolina.  The area is in kilometers squared."
      ]
    },
    {
      "cell_type": "code",
      "execution_count": null,
      "metadata": {
        "id": "684EGdubRGOv"
      },
      "outputs": [],
      "source": [
        "greenville = {'Area': 68, 'City': 'Greenville', 'Country': 'USA', 'Population': 84554}"
      ]
    },
    {
      "cell_type": "markdown",
      "metadata": {
        "id": "dgfx_Rb3RGOw"
      },
      "source": [
        "> Remember to press shift + enter to run the code.\n",
        "\n",
        "Let's retrieve the population of the city and assign it to the variable `greenville_population`."
      ]
    },
    {
      "cell_type": "code",
      "execution_count": null,
      "metadata": {
        "id": "OFhaIGq6RGOw"
      },
      "outputs": [],
      "source": [
        "greenville_population = None # change None\n",
        "greenville_population # 84554"
      ]
    },
    {
      "cell_type": "markdown",
      "metadata": {
        "id": "88ZCv9xuRGOw"
      },
      "source": [
        "Now retrieve the area of Greenville and assign it to the variable `greenville_area`."
      ]
    },
    {
      "cell_type": "code",
      "execution_count": null,
      "metadata": {
        "id": "zEiaJ4b2RGOw"
      },
      "outputs": [],
      "source": [
        "greenville_area = None\n",
        "greenville_area # 68"
      ]
    },
    {
      "cell_type": "markdown",
      "metadata": {
        "id": "GQMsZKScRGOx"
      },
      "source": [
        "Now let's take a look at all of the keys in the `greenville` dictionary and coerce them into a list.  Assign this variable to the list `city_keys`."
      ]
    },
    {
      "cell_type": "code",
      "execution_count": null,
      "metadata": {
        "id": "4hNIhrfDRGOx"
      },
      "outputs": [],
      "source": [
        "city_keys = None\n",
        "city_keys # ['Area', 'City', 'Country', 'Population']"
      ]
    },
    {
      "cell_type": "markdown",
      "metadata": {
        "id": "Zv2eMgD-RGOx"
      },
      "source": [
        "Alright, next let's get all of the values in our greenville dictionary and coerce it into a list.  Assign that list to the variable `city_values`."
      ]
    },
    {
      "cell_type": "code",
      "execution_count": null,
      "metadata": {
        "id": "CNn2TClsRGOx"
      },
      "outputs": [],
      "source": [
        "city_values = None\n",
        "city_values # [68, 'Greenville', 'USA', 84554]"
      ]
    },
    {
      "cell_type": "markdown",
      "metadata": {
        "id": "59iI_V3XRGOx"
      },
      "source": [
        "## Working with multiple cities\n",
        "\n",
        "We can retrieve our data from an excel or Google sheet like the one [shown here](https://docs.google.com/spreadsheets/d/1BTJMMFH9t4p5UmHj5kiC6PGfMN6yaaaZkocx0mDqTK0/edit#gid=0) named Travel Cities and Countries.\n",
        "\n",
        "![](https://curriculum-content.s3.amazonaws.com/data-science/images/countries-cities.png)\n",
        "\n",
        "Luckily for us, we already have the spreadsheet downloaded and located in the current folder.  You can find the file (`cities.xlsx`) in this lesson's GitHub repository. Next, we will use a library called **Pandas** to get this data from the excel file into Python code. We already have the code for reading an excel file into Python written for us below. Let's check it out.\n",
        "\n",
        "> **Note:** To import a library or module in Python, we do so by writing `import` followed by the name of the thing we want to import. We can optionally include an *alias* for our import, which is done by writing **as** after the name of the thing we are importing followed by the name we would like to use for our *alias*. **Do not worry** about aliases right now. Just know that the *convention* for importing the Pandas library is to import it and alias it as `pd` like we see below.   \n",
        "We'll talk about packages and Pandas specifically in much more detail soon enough!"
      ]
    },
    {
      "cell_type": "code",
      "source": [
        "import pandas as pd\n",
        "file_name = \"cities.xlsx\"\n",
        "travel_df = pd.read_excel(file_name)\n",
        "travel_df"
      ],
      "metadata": {
        "id": "Lvrg7px_U48n",
        "outputId": "fd39c37a-04e1-42de-c79c-0e39ad0688c9",
        "colab": {
          "base_uri": "https://localhost:8080/",
          "height": 426
        }
      },
      "execution_count": 1,
      "outputs": [
        {
          "output_type": "execute_result",
          "data": {
            "text/plain": [
              "                  City      Country  Population     Area\n",
              "0                Solta      Croatia        1700       59\n",
              "1           Greenville          USA       84554       68\n",
              "2         Buenos Aires    Argentina    13591863     4758\n",
              "3            Los Cabos       Mexico      287651     3750\n",
              "4   Walla Walla Valley          USA       32237       33\n",
              "5             Marakesh      Morocco      928850      200\n",
              "6          Albuquerque   New Mexico      559277      491\n",
              "7      Archipelago Sea      Finland       60000     8300\n",
              "8         Iguazu Falls    Argentina           0      672\n",
              "9        Salina Island        Italy        4000       27\n",
              "10             Toronto       Canada         630  2731571\n",
              "11         Pyeongchang  South Korea     2581000     3194"
            ],
            "text/html": [
              "\n",
              "  <div id=\"df-9ba286c2-4a09-494d-9d73-61f4882daeda\" class=\"colab-df-container\">\n",
              "    <div>\n",
              "<style scoped>\n",
              "    .dataframe tbody tr th:only-of-type {\n",
              "        vertical-align: middle;\n",
              "    }\n",
              "\n",
              "    .dataframe tbody tr th {\n",
              "        vertical-align: top;\n",
              "    }\n",
              "\n",
              "    .dataframe thead th {\n",
              "        text-align: right;\n",
              "    }\n",
              "</style>\n",
              "<table border=\"1\" class=\"dataframe\">\n",
              "  <thead>\n",
              "    <tr style=\"text-align: right;\">\n",
              "      <th></th>\n",
              "      <th>City</th>\n",
              "      <th>Country</th>\n",
              "      <th>Population</th>\n",
              "      <th>Area</th>\n",
              "    </tr>\n",
              "  </thead>\n",
              "  <tbody>\n",
              "    <tr>\n",
              "      <th>0</th>\n",
              "      <td>Solta</td>\n",
              "      <td>Croatia</td>\n",
              "      <td>1700</td>\n",
              "      <td>59</td>\n",
              "    </tr>\n",
              "    <tr>\n",
              "      <th>1</th>\n",
              "      <td>Greenville</td>\n",
              "      <td>USA</td>\n",
              "      <td>84554</td>\n",
              "      <td>68</td>\n",
              "    </tr>\n",
              "    <tr>\n",
              "      <th>2</th>\n",
              "      <td>Buenos Aires</td>\n",
              "      <td>Argentina</td>\n",
              "      <td>13591863</td>\n",
              "      <td>4758</td>\n",
              "    </tr>\n",
              "    <tr>\n",
              "      <th>3</th>\n",
              "      <td>Los Cabos</td>\n",
              "      <td>Mexico</td>\n",
              "      <td>287651</td>\n",
              "      <td>3750</td>\n",
              "    </tr>\n",
              "    <tr>\n",
              "      <th>4</th>\n",
              "      <td>Walla Walla Valley</td>\n",
              "      <td>USA</td>\n",
              "      <td>32237</td>\n",
              "      <td>33</td>\n",
              "    </tr>\n",
              "    <tr>\n",
              "      <th>5</th>\n",
              "      <td>Marakesh</td>\n",
              "      <td>Morocco</td>\n",
              "      <td>928850</td>\n",
              "      <td>200</td>\n",
              "    </tr>\n",
              "    <tr>\n",
              "      <th>6</th>\n",
              "      <td>Albuquerque</td>\n",
              "      <td>New Mexico</td>\n",
              "      <td>559277</td>\n",
              "      <td>491</td>\n",
              "    </tr>\n",
              "    <tr>\n",
              "      <th>7</th>\n",
              "      <td>Archipelago Sea</td>\n",
              "      <td>Finland</td>\n",
              "      <td>60000</td>\n",
              "      <td>8300</td>\n",
              "    </tr>\n",
              "    <tr>\n",
              "      <th>8</th>\n",
              "      <td>Iguazu Falls</td>\n",
              "      <td>Argentina</td>\n",
              "      <td>0</td>\n",
              "      <td>672</td>\n",
              "    </tr>\n",
              "    <tr>\n",
              "      <th>9</th>\n",
              "      <td>Salina Island</td>\n",
              "      <td>Italy</td>\n",
              "      <td>4000</td>\n",
              "      <td>27</td>\n",
              "    </tr>\n",
              "    <tr>\n",
              "      <th>10</th>\n",
              "      <td>Toronto</td>\n",
              "      <td>Canada</td>\n",
              "      <td>630</td>\n",
              "      <td>2731571</td>\n",
              "    </tr>\n",
              "    <tr>\n",
              "      <th>11</th>\n",
              "      <td>Pyeongchang</td>\n",
              "      <td>South Korea</td>\n",
              "      <td>2581000</td>\n",
              "      <td>3194</td>\n",
              "    </tr>\n",
              "  </tbody>\n",
              "</table>\n",
              "</div>\n",
              "    <div class=\"colab-df-buttons\">\n",
              "\n",
              "  <div class=\"colab-df-container\">\n",
              "    <button class=\"colab-df-convert\" onclick=\"convertToInteractive('df-9ba286c2-4a09-494d-9d73-61f4882daeda')\"\n",
              "            title=\"Convert this dataframe to an interactive table.\"\n",
              "            style=\"display:none;\">\n",
              "\n",
              "  <svg xmlns=\"http://www.w3.org/2000/svg\" height=\"24px\" viewBox=\"0 -960 960 960\">\n",
              "    <path d=\"M120-120v-720h720v720H120Zm60-500h600v-160H180v160Zm220 220h160v-160H400v160Zm0 220h160v-160H400v160ZM180-400h160v-160H180v160Zm440 0h160v-160H620v160ZM180-180h160v-160H180v160Zm440 0h160v-160H620v160Z\"/>\n",
              "  </svg>\n",
              "    </button>\n",
              "\n",
              "  <style>\n",
              "    .colab-df-container {\n",
              "      display:flex;\n",
              "      gap: 12px;\n",
              "    }\n",
              "\n",
              "    .colab-df-convert {\n",
              "      background-color: #E8F0FE;\n",
              "      border: none;\n",
              "      border-radius: 50%;\n",
              "      cursor: pointer;\n",
              "      display: none;\n",
              "      fill: #1967D2;\n",
              "      height: 32px;\n",
              "      padding: 0 0 0 0;\n",
              "      width: 32px;\n",
              "    }\n",
              "\n",
              "    .colab-df-convert:hover {\n",
              "      background-color: #E2EBFA;\n",
              "      box-shadow: 0px 1px 2px rgba(60, 64, 67, 0.3), 0px 1px 3px 1px rgba(60, 64, 67, 0.15);\n",
              "      fill: #174EA6;\n",
              "    }\n",
              "\n",
              "    .colab-df-buttons div {\n",
              "      margin-bottom: 4px;\n",
              "    }\n",
              "\n",
              "    [theme=dark] .colab-df-convert {\n",
              "      background-color: #3B4455;\n",
              "      fill: #D2E3FC;\n",
              "    }\n",
              "\n",
              "    [theme=dark] .colab-df-convert:hover {\n",
              "      background-color: #434B5C;\n",
              "      box-shadow: 0px 1px 3px 1px rgba(0, 0, 0, 0.15);\n",
              "      filter: drop-shadow(0px 1px 2px rgba(0, 0, 0, 0.3));\n",
              "      fill: #FFFFFF;\n",
              "    }\n",
              "  </style>\n",
              "\n",
              "    <script>\n",
              "      const buttonEl =\n",
              "        document.querySelector('#df-9ba286c2-4a09-494d-9d73-61f4882daeda button.colab-df-convert');\n",
              "      buttonEl.style.display =\n",
              "        google.colab.kernel.accessAllowed ? 'block' : 'none';\n",
              "\n",
              "      async function convertToInteractive(key) {\n",
              "        const element = document.querySelector('#df-9ba286c2-4a09-494d-9d73-61f4882daeda');\n",
              "        const dataTable =\n",
              "          await google.colab.kernel.invokeFunction('convertToInteractive',\n",
              "                                                    [key], {});\n",
              "        if (!dataTable) return;\n",
              "\n",
              "        const docLinkHtml = 'Like what you see? Visit the ' +\n",
              "          '<a target=\"_blank\" href=https://colab.research.google.com/notebooks/data_table.ipynb>data table notebook</a>'\n",
              "          + ' to learn more about interactive tables.';\n",
              "        element.innerHTML = '';\n",
              "        dataTable['output_type'] = 'display_data';\n",
              "        await google.colab.output.renderOutput(dataTable, element);\n",
              "        const docLink = document.createElement('div');\n",
              "        docLink.innerHTML = docLinkHtml;\n",
              "        element.appendChild(docLink);\n",
              "      }\n",
              "    </script>\n",
              "  </div>\n",
              "\n",
              "\n",
              "<div id=\"df-96d97bca-4b5c-428e-aa22-5737c3ac3fa4\">\n",
              "  <button class=\"colab-df-quickchart\" onclick=\"quickchart('df-96d97bca-4b5c-428e-aa22-5737c3ac3fa4')\"\n",
              "            title=\"Suggest charts\"\n",
              "            style=\"display:none;\">\n",
              "\n",
              "<svg xmlns=\"http://www.w3.org/2000/svg\" height=\"24px\"viewBox=\"0 0 24 24\"\n",
              "     width=\"24px\">\n",
              "    <g>\n",
              "        <path d=\"M19 3H5c-1.1 0-2 .9-2 2v14c0 1.1.9 2 2 2h14c1.1 0 2-.9 2-2V5c0-1.1-.9-2-2-2zM9 17H7v-7h2v7zm4 0h-2V7h2v10zm4 0h-2v-4h2v4z\"/>\n",
              "    </g>\n",
              "</svg>\n",
              "  </button>\n",
              "\n",
              "<style>\n",
              "  .colab-df-quickchart {\n",
              "      --bg-color: #E8F0FE;\n",
              "      --fill-color: #1967D2;\n",
              "      --hover-bg-color: #E2EBFA;\n",
              "      --hover-fill-color: #174EA6;\n",
              "      --disabled-fill-color: #AAA;\n",
              "      --disabled-bg-color: #DDD;\n",
              "  }\n",
              "\n",
              "  [theme=dark] .colab-df-quickchart {\n",
              "      --bg-color: #3B4455;\n",
              "      --fill-color: #D2E3FC;\n",
              "      --hover-bg-color: #434B5C;\n",
              "      --hover-fill-color: #FFFFFF;\n",
              "      --disabled-bg-color: #3B4455;\n",
              "      --disabled-fill-color: #666;\n",
              "  }\n",
              "\n",
              "  .colab-df-quickchart {\n",
              "    background-color: var(--bg-color);\n",
              "    border: none;\n",
              "    border-radius: 50%;\n",
              "    cursor: pointer;\n",
              "    display: none;\n",
              "    fill: var(--fill-color);\n",
              "    height: 32px;\n",
              "    padding: 0;\n",
              "    width: 32px;\n",
              "  }\n",
              "\n",
              "  .colab-df-quickchart:hover {\n",
              "    background-color: var(--hover-bg-color);\n",
              "    box-shadow: 0 1px 2px rgba(60, 64, 67, 0.3), 0 1px 3px 1px rgba(60, 64, 67, 0.15);\n",
              "    fill: var(--button-hover-fill-color);\n",
              "  }\n",
              "\n",
              "  .colab-df-quickchart-complete:disabled,\n",
              "  .colab-df-quickchart-complete:disabled:hover {\n",
              "    background-color: var(--disabled-bg-color);\n",
              "    fill: var(--disabled-fill-color);\n",
              "    box-shadow: none;\n",
              "  }\n",
              "\n",
              "  .colab-df-spinner {\n",
              "    border: 2px solid var(--fill-color);\n",
              "    border-color: transparent;\n",
              "    border-bottom-color: var(--fill-color);\n",
              "    animation:\n",
              "      spin 1s steps(1) infinite;\n",
              "  }\n",
              "\n",
              "  @keyframes spin {\n",
              "    0% {\n",
              "      border-color: transparent;\n",
              "      border-bottom-color: var(--fill-color);\n",
              "      border-left-color: var(--fill-color);\n",
              "    }\n",
              "    20% {\n",
              "      border-color: transparent;\n",
              "      border-left-color: var(--fill-color);\n",
              "      border-top-color: var(--fill-color);\n",
              "    }\n",
              "    30% {\n",
              "      border-color: transparent;\n",
              "      border-left-color: var(--fill-color);\n",
              "      border-top-color: var(--fill-color);\n",
              "      border-right-color: var(--fill-color);\n",
              "    }\n",
              "    40% {\n",
              "      border-color: transparent;\n",
              "      border-right-color: var(--fill-color);\n",
              "      border-top-color: var(--fill-color);\n",
              "    }\n",
              "    60% {\n",
              "      border-color: transparent;\n",
              "      border-right-color: var(--fill-color);\n",
              "    }\n",
              "    80% {\n",
              "      border-color: transparent;\n",
              "      border-right-color: var(--fill-color);\n",
              "      border-bottom-color: var(--fill-color);\n",
              "    }\n",
              "    90% {\n",
              "      border-color: transparent;\n",
              "      border-bottom-color: var(--fill-color);\n",
              "    }\n",
              "  }\n",
              "</style>\n",
              "\n",
              "  <script>\n",
              "    async function quickchart(key) {\n",
              "      const quickchartButtonEl =\n",
              "        document.querySelector('#' + key + ' button');\n",
              "      quickchartButtonEl.disabled = true;  // To prevent multiple clicks.\n",
              "      quickchartButtonEl.classList.add('colab-df-spinner');\n",
              "      try {\n",
              "        const charts = await google.colab.kernel.invokeFunction(\n",
              "            'suggestCharts', [key], {});\n",
              "      } catch (error) {\n",
              "        console.error('Error during call to suggestCharts:', error);\n",
              "      }\n",
              "      quickchartButtonEl.classList.remove('colab-df-spinner');\n",
              "      quickchartButtonEl.classList.add('colab-df-quickchart-complete');\n",
              "    }\n",
              "    (() => {\n",
              "      let quickchartButtonEl =\n",
              "        document.querySelector('#df-96d97bca-4b5c-428e-aa22-5737c3ac3fa4 button');\n",
              "      quickchartButtonEl.style.display =\n",
              "        google.colab.kernel.accessAllowed ? 'block' : 'none';\n",
              "    })();\n",
              "  </script>\n",
              "</div>\n",
              "\n",
              "  <div id=\"id_428b5cd2-f402-4117-827a-f66f5f42dea4\">\n",
              "    <style>\n",
              "      .colab-df-generate {\n",
              "        background-color: #E8F0FE;\n",
              "        border: none;\n",
              "        border-radius: 50%;\n",
              "        cursor: pointer;\n",
              "        display: none;\n",
              "        fill: #1967D2;\n",
              "        height: 32px;\n",
              "        padding: 0 0 0 0;\n",
              "        width: 32px;\n",
              "      }\n",
              "\n",
              "      .colab-df-generate:hover {\n",
              "        background-color: #E2EBFA;\n",
              "        box-shadow: 0px 1px 2px rgba(60, 64, 67, 0.3), 0px 1px 3px 1px rgba(60, 64, 67, 0.15);\n",
              "        fill: #174EA6;\n",
              "      }\n",
              "\n",
              "      [theme=dark] .colab-df-generate {\n",
              "        background-color: #3B4455;\n",
              "        fill: #D2E3FC;\n",
              "      }\n",
              "\n",
              "      [theme=dark] .colab-df-generate:hover {\n",
              "        background-color: #434B5C;\n",
              "        box-shadow: 0px 1px 3px 1px rgba(0, 0, 0, 0.15);\n",
              "        filter: drop-shadow(0px 1px 2px rgba(0, 0, 0, 0.3));\n",
              "        fill: #FFFFFF;\n",
              "      }\n",
              "    </style>\n",
              "    <button class=\"colab-df-generate\" onclick=\"generateWithVariable('travel_df')\"\n",
              "            title=\"Generate code using this dataframe.\"\n",
              "            style=\"display:none;\">\n",
              "\n",
              "  <svg xmlns=\"http://www.w3.org/2000/svg\" height=\"24px\"viewBox=\"0 0 24 24\"\n",
              "       width=\"24px\">\n",
              "    <path d=\"M7,19H8.4L18.45,9,17,7.55,7,17.6ZM5,21V16.75L18.45,3.32a2,2,0,0,1,2.83,0l1.4,1.43a1.91,1.91,0,0,1,.58,1.4,1.91,1.91,0,0,1-.58,1.4L9.25,21ZM18.45,9,17,7.55Zm-12,3A5.31,5.31,0,0,0,4.9,8.1,5.31,5.31,0,0,0,1,6.5,5.31,5.31,0,0,0,4.9,4.9,5.31,5.31,0,0,0,6.5,1,5.31,5.31,0,0,0,8.1,4.9,5.31,5.31,0,0,0,12,6.5,5.46,5.46,0,0,0,6.5,12Z\"/>\n",
              "  </svg>\n",
              "    </button>\n",
              "    <script>\n",
              "      (() => {\n",
              "      const buttonEl =\n",
              "        document.querySelector('#id_428b5cd2-f402-4117-827a-f66f5f42dea4 button.colab-df-generate');\n",
              "      buttonEl.style.display =\n",
              "        google.colab.kernel.accessAllowed ? 'block' : 'none';\n",
              "\n",
              "      buttonEl.onclick = () => {\n",
              "        google.colab.notebook.generateWithVariable('travel_df');\n",
              "      }\n",
              "      })();\n",
              "    </script>\n",
              "  </div>\n",
              "\n",
              "    </div>\n",
              "  </div>\n"
            ],
            "application/vnd.google.colaboratory.intrinsic+json": {
              "type": "dataframe",
              "variable_name": "travel_df",
              "summary": "{\n  \"name\": \"travel_df\",\n  \"rows\": 12,\n  \"fields\": [\n    {\n      \"column\": \"City\",\n      \"properties\": {\n        \"dtype\": \"string\",\n        \"num_unique_values\": 12,\n        \"samples\": [\n          \"Toronto\",\n          \"Salina Island\",\n          \"Solta\"\n        ],\n        \"semantic_type\": \"\",\n        \"description\": \"\"\n      }\n    },\n    {\n      \"column\": \"Country\",\n      \"properties\": {\n        \"dtype\": \"string\",\n        \"num_unique_values\": 10,\n        \"samples\": [\n          \"Canada\",\n          \"USA\",\n          \"New Mexico\"\n        ],\n        \"semantic_type\": \"\",\n        \"description\": \"\"\n      }\n    },\n    {\n      \"column\": \"Population\",\n      \"properties\": {\n        \"dtype\": \"number\",\n        \"std\": 3876193,\n        \"min\": 0,\n        \"max\": 13591863,\n        \"num_unique_values\": 12,\n        \"samples\": [\n          630,\n          4000,\n          1700\n        ],\n        \"semantic_type\": \"\",\n        \"description\": \"\"\n      }\n    },\n    {\n      \"column\": \"Area\",\n      \"properties\": {\n        \"dtype\": \"number\",\n        \"std\": 787975,\n        \"min\": 27,\n        \"max\": 2731571,\n        \"num_unique_values\": 12,\n        \"samples\": [\n          2731571,\n          27,\n          59\n        ],\n        \"semantic_type\": \"\",\n        \"description\": \"\"\n      }\n    }\n  ]\n}"
            }
          },
          "metadata": {},
          "execution_count": 1
        }
      ]
    },
    {
      "cell_type": "code",
      "execution_count": null,
      "metadata": {
        "id": "2YsZkp-NRGOx"
      },
      "outputs": [],
      "source": [
        "import pandas as pd\n",
        "file_name = './cities.xlsx'\n",
        "travel_df = pd.read_excel(file_name)\n",
        "cities = travel_df.to_dict('records')"
      ]
    },
    {
      "cell_type": "markdown",
      "metadata": {
        "id": "8nQq_hntRGOx"
      },
      "source": [
        "> Remember to press shift + enter.\n",
        "\n",
        "Great! We just used Pandas to read the data from our excel file and turn each row of data into a dictionary. Again, don't worry about exactly how Pandas is doing this, but know that Pandas is a great tool when trying to accomplish a task such as turning data from an excel file into data we can use in Python.\n",
        "\n",
        "Run the cell below to see what our data looks like now."
      ]
    },
    {
      "cell_type": "code",
      "execution_count": null,
      "metadata": {
        "id": "MbSRcRXPRGOx",
        "outputId": "40f71021-2ad1-415a-9cb1-59f7ac0fb2ef"
      },
      "outputs": [
        {
          "data": {
            "text/plain": [
              "[{'City': 'Solta', 'Country': 'Croatia', 'Population': 1700, 'Area': 59},\n",
              " {'City': 'Greenville', 'Country': 'USA', 'Population': 84554, 'Area': 68},\n",
              " {'City': 'Buenos Aires',\n",
              "  'Country': 'Argentina',\n",
              "  'Population': 13591863,\n",
              "  'Area': 4758},\n",
              " {'City': 'Los Cabos',\n",
              "  'Country': 'Mexico',\n",
              "  'Population': 287651,\n",
              "  'Area': 3750},\n",
              " {'City': 'Walla Walla Valley',\n",
              "  'Country': 'USA',\n",
              "  'Population': 32237,\n",
              "  'Area': 33},\n",
              " {'City': 'Marakesh', 'Country': 'Morocco', 'Population': 928850, 'Area': 200},\n",
              " {'City': 'Albuquerque',\n",
              "  'Country': 'New Mexico',\n",
              "  'Population': 559277,\n",
              "  'Area': 491},\n",
              " {'City': 'Archipelago Sea',\n",
              "  'Country': 'Finland',\n",
              "  'Population': 60000,\n",
              "  'Area': 8300},\n",
              " {'City': 'Iguazu Falls',\n",
              "  'Country': 'Argentina',\n",
              "  'Population': 0,\n",
              "  'Area': 672},\n",
              " {'City': 'Salina Island', 'Country': 'Italy', 'Population': 4000, 'Area': 27},\n",
              " {'City': 'Toronto', 'Country': 'Canada', 'Population': 630, 'Area': 2731571},\n",
              " {'City': 'Pyeongchang',\n",
              "  'Country': 'South Korea',\n",
              "  'Population': 2581000,\n",
              "  'Area': 3194}]"
            ]
          },
          "execution_count": 13,
          "metadata": {},
          "output_type": "execute_result"
        }
      ],
      "source": [
        "cities"
      ]
    },
    {
      "cell_type": "markdown",
      "metadata": {
        "id": "HacOJMfZRGOy"
      },
      "source": [
        "Now we will work with reading and manipulating this list of dictionaries, `cities`.\n",
        "\n",
        "### Working with our list of cities\n",
        "\n",
        "First, access the third to last element and set it equal to the variable `salina`."
      ]
    },
    {
      "cell_type": "code",
      "execution_count": null,
      "metadata": {
        "id": "mGciFxn7RGOy"
      },
      "outputs": [],
      "source": [
        "salina = None\n",
        "salina\n",
        "# {'Area': 27, 'City': 'Salina Island', 'Country': 'Italy', 'Population': 4000}"
      ]
    },
    {
      "cell_type": "markdown",
      "metadata": {
        "id": "-cAbW8LvRGOy"
      },
      "source": [
        "Now access the fourth city in the list, and set its population equal to a variable called `los_cabos_pop`."
      ]
    },
    {
      "cell_type": "code",
      "execution_count": null,
      "metadata": {
        "id": "uO0mWD1GRGOy"
      },
      "outputs": [],
      "source": [
        "los_cabos_pop = None\n",
        "los_cabos_pop # 287651"
      ]
    },
    {
      "cell_type": "markdown",
      "metadata": {
        "id": "6-jD5wUURGOy"
      },
      "source": [
        "Now calculate the number of cities in the list and assign the number to the variable `city_count`."
      ]
    },
    {
      "cell_type": "code",
      "execution_count": null,
      "metadata": {
        "scrolled": true,
        "id": "y3eAO7f2RGOy"
      },
      "outputs": [],
      "source": [
        "city_count = None\n",
        "city_count # 12"
      ]
    },
    {
      "cell_type": "markdown",
      "metadata": {
        "id": "jLqAQxlQRGOz"
      },
      "source": [
        "Finally, change the spelling of the South Korean city, Pyeongchang, to the string `'PyeongChang'`, its alternative spelling."
      ]
    },
    {
      "cell_type": "code",
      "execution_count": null,
      "metadata": {
        "id": "B7PvdkrhRGOz"
      },
      "outputs": [],
      "source": [
        "cities[11]['City'] = None\n",
        "cities[11]['City'] # 'PyeongChang'"
      ]
    },
    {
      "cell_type": "markdown",
      "metadata": {
        "id": "HWcmj4vARGOz"
      },
      "source": [
        "Now let's work on retrieving a collection of information about a dictionary.  Use the appropriate dictionary method to return a list of values in the dictionary regarding Pyeongchang.  Assign the list to the variable `pyeongchang_values`."
      ]
    },
    {
      "cell_type": "code",
      "execution_count": null,
      "metadata": {
        "id": "dNf-iFHHRGOz"
      },
      "outputs": [],
      "source": [
        "pyeongchang_values = None\n",
        "\n",
        "pyeongchang_values # ['PyeongChang', 'South Korea', 2581000, 3194]\n",
        "type(pyeongchang_values) # list"
      ]
    },
    {
      "cell_type": "markdown",
      "metadata": {
        "id": "mejsGl62RGOz"
      },
      "source": [
        "And now set `pyeongchang_keys` equal to a list of keys in the dictionary regarding Pyeongchang."
      ]
    },
    {
      "cell_type": "code",
      "execution_count": null,
      "metadata": {
        "id": "zriocu3kRGOz"
      },
      "outputs": [],
      "source": [
        "pyeongchang_keys = None\n",
        "\n",
        "\n",
        "pyeongchang_keys # ['City', 'Country', 'Population', 'Area']\n",
        "type(pyeongchang_keys) # list"
      ]
    },
    {
      "cell_type": "markdown",
      "metadata": {
        "id": "zvQpx1m8RGOz"
      },
      "source": [
        "## Summary\n",
        "\n",
        "In this section, we saw how to assign, retrieve, and re-assign data in a dictionary.  We saw how we can retrieve a collection of information from a dictionary, like a list of its keys and values, and we saw how we can work with a list of dictionaries."
      ]
    }
  ],
  "metadata": {
    "kernelspec": {
      "display_name": "Python (learn-env)",
      "language": "python",
      "name": "learn-env"
    },
    "language_info": {
      "codemirror_mode": {
        "name": "ipython",
        "version": 3
      },
      "file_extension": ".py",
      "mimetype": "text/x-python",
      "name": "python",
      "nbconvert_exporter": "python",
      "pygments_lexer": "ipython3",
      "version": "3.8.5"
    },
    "colab": {
      "provenance": []
    }
  },
  "nbformat": 4,
  "nbformat_minor": 0
}