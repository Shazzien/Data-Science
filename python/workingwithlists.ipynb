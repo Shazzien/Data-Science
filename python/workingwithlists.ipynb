{
  "cells": [
    {
      "cell_type": "markdown",
      "metadata": {
        "id": "f_9pwJQiP4hI"
      },
      "source": [
        "# Working with Lists - Lab\n",
        "\n",
        "## Introduction\n",
        "\n",
        "Now that we have a sense of how to read from a list and alter a list in Python, let's put this knowledge to use.\n",
        "\n",
        "## Objectives\n",
        "\n",
        "You will be able to:\n",
        "\n",
        "* Use indexing to access elements in a list\n",
        "* Apply list methods to make changes to a list\n",
        "* Change elements of a list\n",
        "\n",
        "## Instructions\n",
        "\n",
        "In the previous lesson, we had a list of top travel cities."
      ]
    },
    {
      "cell_type": "code",
      "execution_count": 2,
      "metadata": {
        "id": "xmE4scrvP4hJ"
      },
      "outputs": [],
      "source": [
        "top_travel_cities = ['Solta', 'Greenville', 'Buenos Aires', 'Los Cabos', 'Walla Walla Valley', 'Marakesh', 'Albuquerque', 'Archipelago Sea', 'Iguazu Falls', 'Salina Island', 'Toronto', 'Pyeongchang']"
      ]
    },
    {
      "cell_type": "markdown",
      "metadata": {
        "id": "OpyfrZ2eP4hK"
      },
      "source": [
        "> Remember to press shift+enter to run each gray block of code (including the one above).  Otherwise, the variables will not be defined.\n",
        "\n",
        "In this lab we will work with a list of associated countries corresponding to each of the top travel cities."
      ]
    },
    {
      "cell_type": "code",
      "execution_count": 3,
      "metadata": {
        "id": "RT7XfuC6P4hK"
      },
      "outputs": [],
      "source": [
        "countries = ['Croatia',\n",
        " 'USA',\n",
        " 'Argentina',\n",
        " 'Mexico',\n",
        " 'USA',\n",
        " 'Morocco',\n",
        " 'New Mexico',\n",
        " 'Finland',\n",
        " 'Argentina',\n",
        " 'Italy',\n",
        " 'Canada',\n",
        " 'South Korea']"
      ]
    },
    {
      "cell_type": "markdown",
      "metadata": {
        "id": "DCqWPSyLP4hK"
      },
      "source": [
        "> Run the code in the cell above by pressing shift + enter.\n",
        "\n",
        "The list of countries associated with each city has been assigned to the variable `countries`.  Now we will work with this list.\n",
        "\n",
        "## Accessing elements from lists\n",
        "\n",
        "First, set the variable `italy` to be equal to the third to last element from `countries`.  \n",
        ">**Note:** If you see an **error** stating that `countries` is undefined, it means you must press shift+enter in the second gray box where `countries` variable is assigned."
      ]
    },
    {
      "cell_type": "code",
      "execution_count": 4,
      "metadata": {
        "id": "E3_vfvf-P4hK"
      },
      "outputs": [
        {
          "data": {
            "text/plain": [
              "'Italy'"
            ]
          },
          "execution_count": 4,
          "metadata": {},
          "output_type": "execute_result"
        }
      ],
      "source": [
        "italy = countries[-3] # 'Italy'\n",
        "italy"
      ]
    },
    {
      "cell_type": "markdown",
      "metadata": {
        "id": "4mTTLBWgP4hK"
      },
      "source": [
        "> We assigned the varible `italy` equal to `None`, but you should change the word `None` to code that uses the `countries` list to assign `italy` to `'Italy'`.  We wrote the variable `italy` a second time, so that you can see what it contains when you run the code block.  Currently, nothing is displayed below as it equals `None`, but when it's correct it will match the string which is commented out, `'Italy'`."
      ]
    },
    {
      "cell_type": "code",
      "execution_count": 5,
      "metadata": {
        "id": "J050zEnXP4hK"
      },
      "outputs": [
        {
          "data": {
            "text/plain": [
              "'Italy'"
            ]
          },
          "execution_count": 5,
          "metadata": {},
          "output_type": "execute_result"
        }
      ],
      "source": [
        "italy # 'Italy'"
      ]
    },
    {
      "cell_type": "markdown",
      "metadata": {
        "id": "hyXvBuaCP4hK"
      },
      "source": [
        "Now access the fourth element and set it equal to the variable `mexico`."
      ]
    },
    {
      "cell_type": "code",
      "execution_count": 6,
      "metadata": {
        "id": "LiVVN9GdP4hK"
      },
      "outputs": [
        {
          "data": {
            "text/plain": [
              "'USA'"
            ]
          },
          "execution_count": 6,
          "metadata": {},
          "output_type": "execute_result"
        }
      ],
      "source": [
        "mexico = countries[4]\n",
        "mexico"
      ]
    },
    {
      "cell_type": "markdown",
      "metadata": {
        "id": "-P1bhJTVP4hL"
      },
      "source": [
        "Notice that the second through fifth elements are all in a row and all in the Western Hemisphere.  Assign that subset of elements to a variable called `kindof_neighbors`."
      ]
    },
    {
      "cell_type": "code",
      "execution_count": 7,
      "metadata": {
        "id": "-jNuz1JiP4hL"
      },
      "outputs": [
        {
          "data": {
            "text/plain": [
              "['Argentina', 'Mexico', 'USA', 'Morocco']"
            ]
          },
          "execution_count": 7,
          "metadata": {},
          "output_type": "execute_result"
        }
      ],
      "source": [
        "kindof_neighbors = countries[2:6]\n",
        "kindof_neighbors"
      ]
    },
    {
      "cell_type": "markdown",
      "metadata": {
        "id": "Wqw4QOf6P4hL"
      },
      "source": [
        "## Changing Elements\n",
        "\n",
        "Ok, now let's add a couple of countries onto this list.  At the end of the list, add the country 'Malta'."
      ]
    },
    {
      "cell_type": "code",
      "execution_count": 8,
      "metadata": {
        "id": "-nX83xPqP4hL"
      },
      "outputs": [
        {
          "data": {
            "text/plain": [
              "['Croatia',\n",
              " 'USA',\n",
              " 'Argentina',\n",
              " 'Mexico',\n",
              " 'USA',\n",
              " 'Morocco',\n",
              " 'New Mexico',\n",
              " 'Finland',\n",
              " 'Argentina',\n",
              " 'Italy',\n",
              " 'Canada',\n",
              " 'South Korea',\n",
              " 'Malta']"
            ]
          },
          "execution_count": 8,
          "metadata": {},
          "output_type": "execute_result"
        }
      ],
      "source": [
        "list = countries.append('Malta')\n",
        "countries # add code here"
      ]
    },
    {
      "cell_type": "markdown",
      "metadata": {
        "id": "ArZZoMtpP4hL"
      },
      "source": [
        "Then add the country 'Thailand'."
      ]
    },
    {
      "cell_type": "code",
      "execution_count": 9,
      "metadata": {
        "id": "hwGUnQGLP4hL"
      },
      "outputs": [
        {
          "data": {
            "text/plain": [
              "['Croatia',\n",
              " 'USA',\n",
              " 'Argentina',\n",
              " 'Mexico',\n",
              " 'USA',\n",
              " 'Morocco',\n",
              " 'New Mexico',\n",
              " 'Finland',\n",
              " 'Argentina',\n",
              " 'Italy',\n",
              " 'Canada',\n",
              " 'South Korea',\n",
              " 'Malta',\n",
              " 'Thailand']"
            ]
          },
          "execution_count": 9,
          "metadata": {},
          "output_type": "execute_result"
        }
      ],
      "source": [
        "list = countries.append('Thailand')\n",
        "countries # add code here # add code here"
      ]
    },
    {
      "cell_type": "markdown",
      "metadata": {
        "id": "oyj2nPhKP4hL"
      },
      "source": [
        "Now your list of countries should look like the following."
      ]
    },
    {
      "cell_type": "code",
      "execution_count": 10,
      "metadata": {
        "id": "Q1BM6ruCP4hL"
      },
      "outputs": [
        {
          "data": {
            "text/plain": [
              "['Croatia',\n",
              " 'USA',\n",
              " 'Argentina',\n",
              " 'Mexico',\n",
              " 'USA',\n",
              " 'Morocco',\n",
              " 'New Mexico',\n",
              " 'Finland',\n",
              " 'Argentina',\n",
              " 'Italy',\n",
              " 'Canada',\n",
              " 'South Korea',\n",
              " 'Malta',\n",
              " 'Thailand']"
            ]
          },
          "execution_count": 10,
          "metadata": {},
          "output_type": "execute_result"
        }
      ],
      "source": [
        "countries\n",
        "# ['Croatia', 'USA', 'Argentina', 'Mexico', 'USA', 'Morocco', 'New Mexico', 'Finland',\n",
        "# 'Argentina', 'Italy',  'Canada', 'South Korea',  'Malta',  'Thailand']"
      ]
    },
    {
      "cell_type": "markdown",
      "metadata": {
        "id": "kP-W1p5LP4hL"
      },
      "source": [
        "You may have noticed that \"New Mexico\" is included in our list of countries.  That doesn't seem right.  Let's change 'New Mexico' to 'USA'."
      ]
    },
    {
      "cell_type": "code",
      "execution_count": 11,
      "metadata": {
        "id": "WSI0_Q_hP4hL"
      },
      "outputs": [
        {
          "data": {
            "text/plain": [
              "['Croatia',\n",
              " 'USA',\n",
              " 'Argentina',\n",
              " 'Mexico',\n",
              " 'USA',\n",
              " 'Morocco',\n",
              " 'USA',\n",
              " 'Finland',\n",
              " 'Argentina',\n",
              " 'Italy',\n",
              " 'Canada',\n",
              " 'South Korea',\n",
              " 'Malta',\n",
              " 'Thailand']"
            ]
          },
          "execution_count": 11,
          "metadata": {},
          "output_type": "execute_result"
        }
      ],
      "source": [
        "countries[6] # add code here\n",
        "countries[6] = 'USA'\n",
        "countries[6]\n",
        "countries"
      ]
    },
    {
      "cell_type": "code",
      "execution_count": 12,
      "metadata": {
        "id": "BMkft5a6P4hL"
      },
      "outputs": [
        {
          "data": {
            "text/plain": [
              "['Croatia',\n",
              " 'USA',\n",
              " 'Argentina',\n",
              " 'Mexico',\n",
              " 'USA',\n",
              " 'Morocco',\n",
              " 'USA',\n",
              " 'Finland',\n",
              " 'Argentina',\n",
              " 'Italy',\n",
              " 'Canada',\n",
              " 'South Korea',\n",
              " 'Malta',\n",
              " 'Thailand']"
            ]
          },
          "execution_count": 12,
          "metadata": {},
          "output_type": "execute_result"
        }
      ],
      "source": [
        "countries\n",
        "# ['Croatia', 'USA', 'Argentina', 'Mexico', 'USA', 'Morocco', 'USA', 'Finland',\n",
        "# 'Argentina', 'Italy',  'Canada', 'South Korea',  'Malta',  'Thailand']"
      ]
    },
    {
      "cell_type": "markdown",
      "metadata": {
        "id": "c-aP3Xt8P4hL"
      },
      "source": [
        "Finally, let's remove Thailand from the list.  No good reason, we're acting on whimsy."
      ]
    },
    {
      "cell_type": "code",
      "execution_count": 13,
      "metadata": {
        "id": "Mly2j0WzP4hL"
      },
      "outputs": [
        {
          "data": {
            "text/plain": [
              "'Thailand'"
            ]
          },
          "execution_count": 13,
          "metadata": {},
          "output_type": "execute_result"
        }
      ],
      "source": [
        "countries.pop() # 'Thailand'"
      ]
    },
    {
      "cell_type": "code",
      "execution_count": 14,
      "metadata": {
        "id": "5RGqpu7yP4hL"
      },
      "outputs": [
        {
          "name": "stdout",
          "output_type": "stream",
          "text": [
            "['Croatia', 'USA', 'Argentina', 'Mexico', 'USA', 'Morocco', 'USA', 'Finland', 'Argentina', 'Italy', 'Canada', 'South Korea', 'Malta']\n"
          ]
        }
      ],
      "source": [
        "print(countries)"
      ]
    },
    {
      "cell_type": "markdown",
      "metadata": {
        "id": "6zkWX_SRP4hL"
      },
      "source": [
        "## Exploring Lists with Methods\n",
        "\n",
        "Ok, now we notice that some countries are mentioned more than once.  Let's see how many repeat countries are on this list.  \n",
        "\n",
        "First, use the `set` and `list` functions to return a unique list of countries.  Set this list equal to the variable `unique_countries`."
      ]
    },
    {
      "cell_type": "code",
      "execution_count": 15,
      "metadata": {
        "id": "sr3gUUyQP4hL"
      },
      "outputs": [
        {
          "data": {
            "text/plain": [
              "{'Argentina',\n",
              " 'Canada',\n",
              " 'Croatia',\n",
              " 'Finland',\n",
              " 'Italy',\n",
              " 'Malta',\n",
              " 'Mexico',\n",
              " 'Morocco',\n",
              " 'South Korea',\n",
              " 'USA'}"
            ]
          },
          "execution_count": 15,
          "metadata": {},
          "output_type": "execute_result"
        }
      ],
      "source": [
        "unique_countries = set(countries)\n",
        "unique_countries"
      ]
    },
    {
      "cell_type": "code",
      "execution_count": 16,
      "metadata": {
        "id": "MkYdz24KP4hL"
      },
      "outputs": [
        {
          "data": {
            "text/plain": [
              "{'Argentina',\n",
              " 'Canada',\n",
              " 'Croatia',\n",
              " 'Finland',\n",
              " 'Italy',\n",
              " 'Malta',\n",
              " 'Mexico',\n",
              " 'Morocco',\n",
              " 'South Korea',\n",
              " 'USA'}"
            ]
          },
          "execution_count": 16,
          "metadata": {},
          "output_type": "execute_result"
        }
      ],
      "source": [
        "unique_countries # ['Canada', 'Italy', 'USA', 'Mexico', 'Finland',\n",
        "#'Malta', 'Morocco', 'Croatia', 'Argentina', 'South Korea']"
      ]
    },
    {
      "cell_type": "markdown",
      "metadata": {
        "id": "wPQxkwFfP4hL"
      },
      "source": [
        "Now the number of repeat countries should be the number of countries minus the number of unique countries.  So use the `len` function on both `unique_countries` and `countries` to calculate this and assign the result to the variable `num_of_repeats`."
      ]
    },
    {
      "cell_type": "code",
      "execution_count": null,
      "metadata": {
        "id": "DS0JuyerP4hM"
      },
      "outputs": [
        {
          "data": {
            "text/plain": [
              "3"
            ]
          },
          "execution_count": 17,
          "metadata": {},
          "output_type": "execute_result"
        }
      ],
      "source": [
        "\n",
        "countries\n",
        "unique_countries\n",
        "num_of_repeats = len(countries) - len(unique_countries)\n",
        "num_of_repeats # 3"
      ]
    },
    {
      "cell_type": "code",
      "execution_count": 17,
      "metadata": {},
      "outputs": [
        {
          "name": "stdout",
          "output_type": "stream",
          "text": [
            "My name is Shazzie and my email is sharon.njeri80@gmail.com\n"
          ]
        }
      ],
      "source": [
        "def std_details():\n",
        "    name = \"Shazzie\"\n",
        "    email = \"sharon.njeri80@gmail.com\"\n",
        "    print(f\"My name is {name} and my email is {email}\")\n",
        "std_details()\n",
        "\n"
      ]
    },
    {
      "cell_type": "code",
      "execution_count": 18,
      "metadata": {},
      "outputs": [
        {
          "name": "stdout",
          "output_type": "stream",
          "text": [
            "My name is Shazzie and my email is sharon.njeri80@gmail.com\n"
          ]
        }
      ],
      "source": [
        "def std_details2(name, email):\n",
        "    print(f\"My name is {name} and my email is {email}\")\n",
        "std_details2(\"Shazzie\",\"sharon.njeri80@gmail.com\" )    \n"
      ]
    },
    {
      "cell_type": "markdown",
      "metadata": {
        "id": "IVxQqSO5P4hM"
      },
      "source": [
        "## Summary\n",
        "\n",
        "In this lesson, we practiced working with lists in Python. We saw how to index lists to select specific elements, how to use list methods to change lists, and how to add and remove elements from a list. Finally, we saw how to use a set to calculate the number of unique elements in the list."
      ]
    },
    {
      "cell_type": "markdown",
      "metadata": {},
      "source": []
    }
  ],
  "metadata": {
    "colab": {
      "provenance": []
    },
    "kernelspec": {
      "display_name": "base",
      "language": "python",
      "name": "python3"
    },
    "language_info": {
      "codemirror_mode": {
        "name": "ipython",
        "version": 3
      },
      "file_extension": ".py",
      "mimetype": "text/x-python",
      "name": "python",
      "nbconvert_exporter": "python",
      "pygments_lexer": "ipython3",
      "version": "3.11.7"
    }
  },
  "nbformat": 4,
  "nbformat_minor": 0
}
