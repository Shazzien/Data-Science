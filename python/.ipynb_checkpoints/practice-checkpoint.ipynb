{
 "cells": [
  {
   "cell_type": "code",
   "execution_count": 1,
   "metadata": {},
   "outputs": [
    {
     "name": "stdout",
     "output_type": "stream",
     "text": [
      "0\n",
      "Githaiga\n",
      "1\n",
      "Francis\n",
      "2\n",
      "Abdi\n",
      "3\n",
      "Jane\n",
      "4\n",
      "John\n"
     ]
    }
   ],
   "source": [
    "names = ['Githaiga', 'Francis', 'Abdi', 'Jane', 'John']\n",
    "nums = [0, 1, 2, 3, 4]\n",
    "char = ['a', 'b', 'c', 'd', 'e']\n",
    "for num in nums:\n",
    "    print(num)\n",
    "    print(names[num])"
   ]
  },
  {
   "cell_type": "code",
   "execution_count": 2,
   "metadata": {},
   "outputs": [
    {
     "name": "stdout",
     "output_type": "stream",
     "text": [
      "0\n",
      "1\n",
      "2\n",
      "3\n",
      "4\n",
      "\n",
      "\n",
      "Githaiga\n",
      "Francis\n",
      "Abdi\n",
      "Jane\n",
      "John\n"
     ]
    }
   ],
   "source": [
    "nums = [0, 1, 2, 3, 4]\n",
    "names = ['Githaiga', 'Francis', 'Abdi', 'Jane', 'John']\n",
    "print(nums[0])\n",
    "print(nums[1])\n",
    "print(nums[2])\n",
    "print(nums[3])\n",
    "print(nums[4])\n",
    "\n",
    "print('\\n')\n",
    "print(names[0])\n",
    "print(names[1])\n",
    "print(names[2])\n",
    "print(names[3])\n",
    "print(names[4])\n",
    "\n"
   ]
  },
  {
   "cell_type": "code",
   "execution_count": 3,
   "metadata": {},
   "outputs": [
    {
     "name": "stdout",
     "output_type": "stream",
     "text": [
      "Index:  0 Name:  Githaiga\n",
      "Index:  1 Name:  Francis\n",
      "Index:  2 Name:  Abdi\n",
      "Index:  3 Name:  Jane\n",
      "Index:  4 Name:  John\n"
     ]
    }
   ],
   "source": [
    "for num in nums:\n",
    "    #print(num)\n",
    "    #print(names[num])\n",
    "    #print(num, names[num])\n",
    "    print('Index: ', num, 'Name: ', names[num])\n",
    "    #print(f'Index: {num} Name: {names[num]}')"
   ]
  },
  {
   "cell_type": "code",
   "execution_count": 4,
   "metadata": {},
   "outputs": [
    {
     "name": "stdout",
     "output_type": "stream",
     "text": [
      "Index:  0 Name:  Githaiga\n",
      "Index:  1 Name:  Francis\n",
      "Index:  2 Name:  Abdi\n",
      "Index:  3 Name:  Jane\n",
      "Index:  4 Name:  John\n",
      "Index:  5 Name:  Tim\n"
     ]
    }
   ],
   "source": [
    "names = ['Githaiga', 'Francis', 'Abdi', 'Jane', 'John', 'Tim']\n",
    "for index, name in enumerate(names):\n",
    "    print('Index: ', index, 'Name: ', name)"
   ]
  },
  {
   "cell_type": "code",
   "execution_count": 5,
   "metadata": {},
   "outputs": [
    {
     "name": "stdout",
     "output_type": "stream",
     "text": [
      "1 0\n",
      "2 0\n",
      "2 1\n",
      "3 0\n",
      "3 1\n",
      "3 2\n",
      "4 0\n",
      "4 1\n",
      "4 2\n",
      "4 3\n",
      "5 0\n",
      "5 1\n",
      "5 2\n",
      "5 3\n",
      "5 4\n",
      "6 0\n",
      "6 1\n",
      "6 2\n",
      "6 3\n",
      "6 4\n",
      "6 5\n",
      "7 0\n",
      "7 1\n",
      "7 2\n",
      "7 3\n",
      "7 4\n",
      "7 5\n",
      "7 6\n",
      "8 0\n",
      "8 1\n",
      "8 2\n",
      "8 3\n",
      "8 4\n",
      "8 5\n",
      "8 6\n",
      "8 7\n",
      "9 0\n",
      "9 1\n",
      "9 2\n",
      "9 3\n",
      "9 4\n",
      "9 5\n",
      "9 6\n",
      "9 7\n",
      "9 8\n"
     ]
    }
   ],
   "source": [
    "#Nested loops\n",
    "for i in range(0, 10):\n",
    "    for j in range(0, i):\n",
    "        print(i, j)\n",
    "            \n",
    "\n",
    "    \n"
   ]
  },
  {
   "cell_type": "code",
   "execution_count": null,
   "metadata": {},
   "outputs": [],
   "source": []
  },
  {
   "cell_type": "markdown",
   "metadata": {},
   "source": [
    "Challenge 1\n",
    "Create a program that takes students' subjects score, calculates their average scores, grades the score and gives a comment.\n",
    "Prints out the name, average score, grade and comment. Prompt the user to parse the name and subjects.\n",
    "Use: Function, Conditional Statements (If, If_else), input(), for loop and  list"
   ]
  },
  {
   "cell_type": "code",
   "execution_count": 6,
   "metadata": {},
   "outputs": [
    {
     "name": "stdout",
     "output_type": "stream",
     "text": [
      "Name: Shazzie Email sharon.thiga@student.moringaschool.com\n"
     ]
    }
   ],
   "source": [
    "def std_details():\n",
    "    name = 'Shazzie'\n",
    "    email = 'sharon.thiga@student.moringaschool.com'\n",
    "    print(f'Name: {name} Email {email}')\n",
    "std_details()    "
   ]
  },
  {
   "cell_type": "code",
   "execution_count": 7,
   "metadata": {},
   "outputs": [
    {
     "name": "stdout",
     "output_type": "stream",
     "text": [
      "Name: Shazzie Email sharon.thiga@student.moringaschool.com\n"
     ]
    }
   ],
   "source": [
    "\n",
    "def std_details(name, email):\n",
    "    print(f'Name: {name} Email {email}')\n",
    "std_details('Shazzie', 'sharon.thiga@student.moringaschool.com')    \n",
    "\n"
   ]
  },
  {
   "cell_type": "code",
   "execution_count": null,
   "metadata": {},
   "outputs": [],
   "source": [
    "name = input(\"Enter Your Name: \")\n",
    "email = input(\"Enter your email: \")\n",
    "def std_details(name, email):\n",
    "    print(f'Name: {name} Email {email}')\n",
    "name = input(\"Enter Your Name: \")\n",
    "email = input(\"Enter your email: \")\n",
    "\n",
    "std_details(name, email)\n",
    "\n",
    "   \n",
    "\n",
    "\n",
    "\n",
    "\n"
   ]
  },
  {
   "cell_type": "code",
   "execution_count": null,
   "metadata": {},
   "outputs": [],
   "source": []
  }
 ],
 "metadata": {
  "kernelspec": {
   "display_name": "base",
   "language": "python",
   "name": "python3"
  },
  "language_info": {
   "codemirror_mode": {
    "name": "ipython",
    "version": 3
   },
   "file_extension": ".py",
   "mimetype": "text/x-python",
   "name": "python",
   "nbconvert_exporter": "python",
   "pygments_lexer": "ipython3",
   "version": "3.11.7"
  }
 },
 "nbformat": 4,
 "nbformat_minor": 2
}
